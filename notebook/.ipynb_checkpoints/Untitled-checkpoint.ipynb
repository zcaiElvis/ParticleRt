{
 "cells": [
  {
   "cell_type": "code",
   "execution_count": 3,
   "id": "d854b94e",
   "metadata": {},
   "outputs": [],
   "source": [
    "library(\"tidyverse\")\n",
    "library(\"dplyr\")\n",
    "library(\"zoo\")\n",
    "library(\"pomp\")"
   ]
  },
  {
   "cell_type": "code",
   "execution_count": 4,
   "id": "1f694bd3",
   "metadata": {},
   "outputs": [],
   "source": [
    "setwd(\"~/Desktop/School/research/pf_mobility\")"
   ]
  },
  {
   "cell_type": "code",
   "execution_count": 5,
   "id": "483a13e0",
   "metadata": {},
   "outputs": [],
   "source": [
    "source(\"scripts/read_data.R\")\n",
    "source(\"constants/file_loc.R\")"
   ]
  },
  {
   "cell_type": "code",
   "execution_count": 6,
   "id": "f9bdd66e",
   "metadata": {},
   "outputs": [
    {
     "name": "stderr",
     "output_type": "stream",
     "text": [
      "Note: Using an external vector in selections is ambiguous.\n",
      "\u001b[34mℹ\u001b[39m Use `all_of(selected_col)` instead of `selected_col` to silence this message.\n",
      "\u001b[34mℹ\u001b[39m See <https://tidyselect.r-lib.org/reference/faq-external-vector.html>.\n",
      "\u001b[90mThis message is displayed once per session.\u001b[39m\n"
     ]
    }
   ],
   "source": [
    "covid <- read_data(covid_file_loc, inter = c(50:800))"
   ]
  },
  {
   "cell_type": "code",
   "execution_count": null,
   "id": "dabf6a3e",
   "metadata": {},
   "outputs": [],
   "source": []
  }
 ],
 "metadata": {
  "kernelspec": {
   "display_name": "R",
   "language": "R",
   "name": "ir"
  },
  "language_info": {
   "codemirror_mode": "r",
   "file_extension": ".r",
   "mimetype": "text/x-r-source",
   "name": "R",
   "pygments_lexer": "r",
   "version": "4.1.2"
  }
 },
 "nbformat": 4,
 "nbformat_minor": 5
}
